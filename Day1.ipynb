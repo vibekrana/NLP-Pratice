{
 "cells": [
  {
   "cell_type": "code",
   "execution_count": 2,
   "id": "203814bb-66e8-4255-90d1-b039e4caf0a8",
   "metadata": {},
   "outputs": [],
   "source": [
    "import numpy as np"
   ]
  },
  {
   "cell_type": "code",
   "execution_count": 3,
   "id": "ff9d9c05-b4c7-4a56-865d-ae3295d98b11",
   "metadata": {},
   "outputs": [
    {
     "name": "stdout",
     "output_type": "stream",
     "text": [
      "\n",
      "2D Array:\n",
      " [[1 2 3]\n",
      " [4 5 6]]\n"
     ]
    }
   ],
   "source": [
    "array_2d = np.array([[1,2,3],[4,5,6]])\n",
    "print(\"\\n2D Array:\\n\", array_2d)"
   ]
  },
  {
   "cell_type": "code",
   "execution_count": 4,
   "id": "f6056987-80c0-4626-9919-dad372903bd7",
   "metadata": {
    "scrolled": true
   },
   "outputs": [
    {
     "name": "stdout",
     "output_type": "stream",
     "text": [
      "\n",
      "3D Array: \n",
      " [[[1 2]\n",
      "  [3 4]]\n",
      "\n",
      " [[5 6]\n",
      "  [7 8]]]\n"
     ]
    }
   ],
   "source": [
    "array_3d= np.array([[[1,2],[3,4]], [[5,6], [7,8]]])\n",
    "print(\"\\n3D Array: \\n\", array_3d)"
   ]
  },
  {
   "cell_type": "code",
   "execution_count": 6,
   "id": "a3074e85-13ba-4b9a-88d2-b566d02b7c38",
   "metadata": {},
   "outputs": [
    {
     "name": "stdout",
     "output_type": "stream",
     "text": [
      "\n",
      "Array Properties:\n",
      "Shape: (2, 3)\n",
      "Size: 6\n",
      "Data Type: int32\n"
     ]
    }
   ],
   "source": [
    "print(\"\\nArray Properties:\")\n",
    "print(\"Shape:\", array_2d.shape)\n",
    "print(\"Size:\", array_2d.size)\n",
    "print(\"Data Type:\", array_2d.dtype)"
   ]
  },
  {
   "cell_type": "code",
   "execution_count": 7,
   "id": "e0f207c2-1a08-49fe-906f-dcc84723e048",
   "metadata": {},
   "outputs": [
    {
     "name": "stdout",
     "output_type": "stream",
     "text": [
      "\n",
      "Zeros Array:\n",
      " [[0. 0. 0.]\n",
      " [0. 0. 0.]]\n"
     ]
    }
   ],
   "source": [
    "zeros = np.zeros((2,3))\n",
    "print(\"\\nZeros Array:\\n\", zeros)"
   ]
  },
  {
   "cell_type": "code",
   "execution_count": 8,
   "id": "1685b8b5-3a81-4840-a658-ef7eec906fe5",
   "metadata": {},
   "outputs": [
    {
     "name": "stdout",
     "output_type": "stream",
     "text": [
      "\n",
      "Zeros Array:\n",
      " [[1. 1. 1.]\n",
      " [1. 1. 1.]]\n"
     ]
    }
   ],
   "source": [
    "zeros = np.ones((2,3))\n",
    "print(\"\\nZeros Array:\\n\", zeros)"
   ]
  },
  {
   "cell_type": "code",
   "execution_count": 9,
   "id": "c46aded5-9037-456b-8923-0063ed0a471f",
   "metadata": {},
   "outputs": [
    {
     "name": "stdout",
     "output_type": "stream",
     "text": [
      "[[1. 0. 0. 0.]\n",
      " [0. 1. 0. 0.]\n",
      " [0. 0. 1. 0.]\n",
      " [0. 0. 0. 1.]]\n"
     ]
    }
   ],
   "source": [
    "identity=np.eye(4)\n",
    "print(identity)"
   ]
  },
  {
   "cell_type": "code",
   "execution_count": 10,
   "id": "6fee3ff6-390b-4d92-9e2b-36db29f3a622",
   "metadata": {},
   "outputs": [
    {
     "name": "stdout",
     "output_type": "stream",
     "text": [
      "[ 0 20 40 60 80]\n"
     ]
    }
   ],
   "source": [
    "arange_array = np.arange(0, 100, 20)\n",
    "print(arange_array)"
   ]
  },
  {
   "cell_type": "code",
   "execution_count": 11,
   "id": "2da2895b-0ca5-4be1-b199-fc1a25b2be1c",
   "metadata": {},
   "outputs": [
    {
     "name": "stdout",
     "output_type": "stream",
     "text": [
      "[5 7 9]\n"
     ]
    }
   ],
   "source": [
    "array_a = np.array([1,2,3])\n",
    "arrat_b = np.array([4,5,6])\n",
    "add = array_a + arrat_b\n",
    "print(add)"
   ]
  },
  {
   "cell_type": "code",
   "execution_count": 12,
   "id": "16740e54-a8ea-4197-bf0c-8b2ee9138e38",
   "metadata": {},
   "outputs": [
    {
     "name": "stdout",
     "output_type": "stream",
     "text": [
      "[[19 22]\n",
      " [43 50]]\n"
     ]
    }
   ],
   "source": [
    "matrix_a = np.array([[1,2],[3,4]])\n",
    "matrix_b = np.array([[5,6],[7,8]])\n",
    "product = np.dot(matrix_a, matrix_b)\n",
    "print(product)"
   ]
  },
  {
   "cell_type": "code",
   "execution_count": 18,
   "id": "57ff8ae2-1a2b-472d-83b1-56868534b2f0",
   "metadata": {},
   "outputs": [
    {
     "name": "stdout",
     "output_type": "stream",
     "text": [
      "\n",
      "Statistical Operations\n",
      "Sum 45\n",
      "Mean 5.0\n",
      "SD: 2.581988897471611\n",
      "Max: 9\n",
      "Min: 1\n"
     ]
    }
   ],
   "source": [
    "array = np.array([1,2,3,4,5,6,7,8,9])\n",
    "print(\"\\nStatistical Operations\")\n",
    "print(\"Sum\", array.sum())\n",
    "print(\"Mean\",array.mean())\n",
    "print(\"SD:\",array.std())\n",
    "print(\"Max:\", array.max())\n",
    "print(\"Min:\", array.min())"
   ]
  },
  {
   "cell_type": "code",
   "execution_count": 19,
   "id": "b32819a6-d629-41f4-895c-0449fb25ce0b",
   "metadata": {},
   "outputs": [
    {
     "name": "stdout",
     "output_type": "stream",
     "text": [
      "[[0.17929501 0.42280542 0.04614756]\n",
      " [0.89371447 0.83339902 0.02963269]]\n"
     ]
    }
   ],
   "source": [
    "r_array = np.random.random((2,3))\n",
    "print(r_array)"
   ]
  },
  {
   "cell_type": "code",
   "execution_count": null,
   "id": "31717d81-3d58-4b45-852c-b9b7f362943e",
   "metadata": {},
   "outputs": [],
   "source": []
  }
 ],
 "metadata": {
  "kernelspec": {
   "display_name": "Python 3 (ipykernel)",
   "language": "python",
   "name": "python3"
  },
  "language_info": {
   "codemirror_mode": {
    "name": "ipython",
    "version": 3
   },
   "file_extension": ".py",
   "mimetype": "text/x-python",
   "name": "python",
   "nbconvert_exporter": "python",
   "pygments_lexer": "ipython3",
   "version": "3.12.4"
  }
 },
 "nbformat": 4,
 "nbformat_minor": 5
}
